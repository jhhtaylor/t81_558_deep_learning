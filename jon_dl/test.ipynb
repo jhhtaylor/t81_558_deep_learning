{
 "cells": [
  {
   "cell_type": "code",
   "execution_count": 1,
   "metadata": {},
   "outputs": [
    {
     "name": "stdout",
     "output_type": "stream",
     "text": [
      "Tensor Flow Version: 2.3.0\n",
      "Keras Version: 2.4.0\n",
      "\n",
      "Python 3.8.11 (default, Aug  6 2021, 09:57:55) [MSC v.1916 64 bit (AMD64)]\n",
      "Pandas 1.2.4\n",
      "Scikit-Learn 0.24.2\n",
      "GPU is NOT AVAILABLE\n"
     ]
    }
   ],
   "source": [
    "# What version of Python do you have?\r\n",
    "import sys\r\n",
    "\r\n",
    "import tensorflow.keras\r\n",
    "import pandas as pd\r\n",
    "import sklearn as sk\r\n",
    "import tensorflow as tf\r\n",
    "\r\n",
    "print(f\"Tensor Flow Version: {tf.__version__}\")\r\n",
    "print(f\"Keras Version: {tensorflow.keras.__version__}\")\r\n",
    "print()\r\n",
    "print(f\"Python {sys.version}\")\r\n",
    "print(f\"Pandas {pd.__version__}\")\r\n",
    "print(f\"Scikit-Learn {sk.__version__}\")\r\n",
    "gpu = len(tf.config.list_physical_devices('GPU'))>0\r\n",
    "print(\"GPU is\", \"available\" if gpu else \"NOT AVAILABLE\")"
   ]
  }
 ],
 "metadata": {
  "interpreter": {
   "hash": "5c3b02fa24688d32a1d09351b7f8eac82a87272ad081601c73caead00a8e1fc4"
  },
  "kernelspec": {
   "display_name": "Python 2.7.18 64-bit (system)",
   "name": "python3"
  },
  "language_info": {
   "codemirror_mode": {
    "name": "ipython",
    "version": 3
   },
   "file_extension": ".py",
   "mimetype": "text/x-python",
   "name": "python",
   "nbconvert_exporter": "python",
   "pygments_lexer": "ipython3",
   "version": "3.8.11"
  },
  "orig_nbformat": 4
 },
 "nbformat": 4,
 "nbformat_minor": 2
}